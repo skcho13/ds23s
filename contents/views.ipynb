{
 "cells": [
  {
   "cell_type": "raw",
   "metadata": {},
   "source": [
    "---\n",
    "title: Views and Copies\n",
    "subtitle: R for Data Science by Wickham & Grolemund\n",
    "date: Feb 11, 2023\n",
    "author: Sungkyun Cho\n",
    "---"
   ]
  },
  {
   "cell_type": "code",
   "execution_count": 1,
   "metadata": {},
   "outputs": [],
   "source": [
    "#| code-summary: Load Packages\n",
    "#| code-fold: true\n",
    "\n",
    "# numerical calculation & data frames\n",
    "import numpy as np\n",
    "import pandas as pd"
   ]
  },
  {
   "cell_type": "code",
   "execution_count": 2,
   "metadata": {},
   "outputs": [],
   "source": [
    "#| echo: false\n",
    "from IPython.display import display, HTML\n",
    "HTML('<style>.output {flex-direction: row;}</style>')\n",
    "pd.options.display.notebook_repr_html = False"
   ]
  },
  {
   "attachments": {},
   "cell_type": "markdown",
   "metadata": {},
   "source": [
    "## NumPy\n",
    "\n",
    "NumPy에서 subsetting을 하는 경우 view로 나타날 수 있음.  \n",
    "속도와 메모리의 효율적 관리가 가능하나 혼동의 여지 있음."
   ]
  },
  {
   "cell_type": "code",
   "execution_count": 17,
   "metadata": {},
   "outputs": [
    {
     "data": {
      "text/plain": [
       "array([1, 2, 3, 4, 5])"
      ]
     },
     "execution_count": 17,
     "metadata": {},
     "output_type": "execute_result"
    }
   ],
   "source": [
    "arr = np.array([1, 2, 3, 4, 5])\n",
    "arr"
   ]
  },
  {
   "cell_type": "code",
   "execution_count": 18,
   "metadata": {},
   "outputs": [
    {
     "data": {
      "text/plain": [
       "array([2, 3])"
      ]
     },
     "execution_count": 18,
     "metadata": {},
     "output_type": "execute_result"
    }
   ],
   "source": [
    "sub_arr = arr[1:3]\n",
    "sub_arr # view"
   ]
  },
  {
   "attachments": {},
   "cell_type": "markdown",
   "metadata": {},
   "source": [
    "Subset을 수정하면"
   ]
  },
  {
   "cell_type": "code",
   "execution_count": 19,
   "metadata": {},
   "outputs": [],
   "source": [
    "sub_arr[0] = 99"
   ]
  },
  {
   "cell_type": "code",
   "execution_count": 20,
   "metadata": {},
   "outputs": [
    {
     "name": "stdout",
     "output_type": "stream",
     "text": [
      "[ 1 99  3  4  5]\n",
      "[99  3]\n"
     ]
    }
   ],
   "source": [
    "print(arr)\n",
    "print(sub_arr)"
   ]
  },
  {
   "attachments": {},
   "cell_type": "markdown",
   "metadata": {},
   "source": [
    "반대로 \"original\" `arr`를 수정하도"
   ]
  },
  {
   "cell_type": "code",
   "execution_count": 21,
   "metadata": {},
   "outputs": [],
   "source": [
    "arr[2] = -11"
   ]
  },
  {
   "cell_type": "code",
   "execution_count": 22,
   "metadata": {},
   "outputs": [
    {
     "name": "stdout",
     "output_type": "stream",
     "text": [
      "[  1  99 -11   4   5]\n",
      "[ 99 -11]\n"
     ]
    }
   ],
   "source": [
    "print(arr)\n",
    "print(sub_arr)"
   ]
  },
  {
   "attachments": {},
   "cell_type": "markdown",
   "metadata": {},
   "source": [
    "사실, `arr`, `sub_arr`는 같은 메모리 주소를 reference함"
   ]
  },
  {
   "attachments": {},
   "cell_type": "markdown",
   "metadata": {},
   "source": [
    "::: {.callout-note}\n",
    "View가 되지 않고 copy로 되는 경우가 있음.\n",
    "\n",
    "Simple indexing을 제외하면 copy가 된다고 보면 됨  \n",
    "즉, `arr[2]` 또는 `arr[2:4]` 같은 경우는 view로, 그 이외에 \n",
    "integer array로 subsetting을 하거나 (fancy indexing); `arr[[2, 3]]`, 또는 \n",
    "boolean indexing; `arr[arr > 2]`의 경우 copy가 됨\n",
    ":::"
   ]
  },
  {
   "cell_type": "code",
   "execution_count": 29,
   "metadata": {},
   "outputs": [],
   "source": [
    "arr = np.array([1, 2, 3, 4, 5])"
   ]
  },
  {
   "cell_type": "code",
   "execution_count": 30,
   "metadata": {},
   "outputs": [],
   "source": [
    "sub_arr = arr[[2, 3]] # copy\n",
    "sub_arr[0] = 99"
   ]
  },
  {
   "cell_type": "code",
   "execution_count": 31,
   "metadata": {},
   "outputs": [
    {
     "name": "stdout",
     "output_type": "stream",
     "text": [
      "[1 2 3 4 5]\n",
      "[99  4]\n"
     ]
    }
   ],
   "source": [
    "print(arr)\n",
    "print(sub_arr)"
   ]
  },
  {
   "cell_type": "code",
   "execution_count": 32,
   "metadata": {},
   "outputs": [],
   "source": [
    "sub_arr = arr[arr > 2] # copy\n",
    "sub_arr[0] = 99"
   ]
  },
  {
   "cell_type": "code",
   "execution_count": 33,
   "metadata": {},
   "outputs": [
    {
     "name": "stdout",
     "output_type": "stream",
     "text": [
      "[1 2 3 4 5]\n",
      "[99  4  5]\n"
     ]
    }
   ],
   "source": [
    "print(arr)\n",
    "print(sub_arr)"
   ]
  },
  {
   "attachments": {},
   "cell_type": "markdown",
   "metadata": {},
   "source": [
    "::: {.callout-note}\n",
    "Assign operator의 왼편에 [:] 없이, view에서 수정된 array를 assign하면 copy로 전달\n",
    ":::"
   ]
  },
  {
   "cell_type": "code",
   "execution_count": 34,
   "metadata": {},
   "outputs": [],
   "source": [
    "arr = np.array([1, 2, 3, 4, 5])"
   ]
  },
  {
   "cell_type": "code",
   "execution_count": 35,
   "metadata": {},
   "outputs": [],
   "source": [
    "sub_arr = arr[1:4] # view\n",
    "sub_arr = sub_arr * 2 # copy"
   ]
  },
  {
   "cell_type": "code",
   "execution_count": 36,
   "metadata": {},
   "outputs": [
    {
     "name": "stdout",
     "output_type": "stream",
     "text": [
      "[1 2 3 4 5]\n",
      "[4 6 8]\n"
     ]
    }
   ],
   "source": [
    "print(arr)\n",
    "print(sub_arr)"
   ]
  },
  {
   "cell_type": "code",
   "execution_count": 40,
   "metadata": {},
   "outputs": [],
   "source": [
    "arr = np.array([1, 2, 3, 4, 5])"
   ]
  },
  {
   "cell_type": "code",
   "execution_count": 41,
   "metadata": {},
   "outputs": [],
   "source": [
    "sub_arr = arr[1:4] # view\n",
    "sub_arr[:] = sub_arr * 2 # view"
   ]
  },
  {
   "cell_type": "code",
   "execution_count": 42,
   "metadata": {},
   "outputs": [
    {
     "name": "stdout",
     "output_type": "stream",
     "text": [
      "[1 4 6 8 5]\n",
      "[4 6 8]\n"
     ]
    }
   ],
   "source": [
    "print(arr)\n",
    "print(sub_arr)"
   ]
  },
  {
   "attachments": {},
   "cell_type": "markdown",
   "metadata": {},
   "source": [
    "강제로 copy: `sub_arr.copy()`"
   ]
  },
  {
   "attachments": {},
   "cell_type": "markdown",
   "metadata": {},
   "source": [
    "## pandas\n",
    "훨씬 복잡함...  \n",
    "데이터 타입도 데이터가 어떻게 만들어졌는지도 관계가 있음."
   ]
  },
  {
   "cell_type": "code",
   "execution_count": 4,
   "metadata": {},
   "outputs": [
    {
     "data": {
      "text/plain": [
       "   one  two\n",
       "0    0    1\n",
       "1    2    3\n",
       "2    4    5\n",
       "3    6    7"
      ]
     },
     "execution_count": 4,
     "metadata": {},
     "output_type": "execute_result"
    }
   ],
   "source": [
    "df = pd.DataFrame(np.arange(8).reshape(4, 2), columns=[\"one\", \"two\"])\n",
    "df"
   ]
  },
  {
   "cell_type": "code",
   "execution_count": 5,
   "metadata": {},
   "outputs": [
    {
     "data": {
      "text/plain": [
       "   one  two\n",
       "1    2    3\n",
       "2    4    5"
      ]
     },
     "execution_count": 5,
     "metadata": {},
     "output_type": "execute_result"
    }
   ],
   "source": [
    "sub_df = df.iloc[1:3] # view\n",
    "sub_df"
   ]
  },
  {
   "cell_type": "code",
   "execution_count": 6,
   "metadata": {},
   "outputs": [],
   "source": [
    "df.iloc[1, 1] = 99"
   ]
  },
  {
   "cell_type": "code",
   "execution_count": 7,
   "metadata": {},
   "outputs": [
    {
     "name": "stdout",
     "output_type": "stream",
     "text": [
      "   one  two\n",
      "0    0    1\n",
      "1    2   99\n",
      "2    4    5\n",
      "3    6    7\n",
      "   one  two\n",
      "1    2   99\n",
      "2    4    5\n"
     ]
    }
   ],
   "source": [
    "print(df)\n",
    "print(sub_df)"
   ]
  },
  {
   "cell_type": "code",
   "execution_count": 8,
   "metadata": {},
   "outputs": [],
   "source": [
    "df.iloc[1, 0] = 0.9 # copy"
   ]
  },
  {
   "cell_type": "code",
   "execution_count": 11,
   "metadata": {},
   "outputs": [
    {
     "name": "stdout",
     "output_type": "stream",
     "text": [
      "   one  two\n",
      "0 0.00    1\n",
      "1 0.90   99\n",
      "2 4.00    5\n",
      "3 6.00    7\n",
      "   one  two\n",
      "1    2   99\n",
      "2    4    5\n"
     ]
    }
   ],
   "source": [
    "print(df)\n",
    "print(sub_df)"
   ]
  },
  {
   "cell_type": "code",
   "execution_count": 9,
   "metadata": {},
   "outputs": [],
   "source": [
    "df.iloc[2, 1] = -99"
   ]
  },
  {
   "cell_type": "code",
   "execution_count": 10,
   "metadata": {},
   "outputs": [
    {
     "name": "stdout",
     "output_type": "stream",
     "text": [
      "   one  two\n",
      "0 0.00    1\n",
      "1 0.90   99\n",
      "2 4.00  -99\n",
      "3 6.00    7\n",
      "   one  two\n",
      "1    2   99\n",
      "2    4    5\n"
     ]
    }
   ],
   "source": [
    "print(df)\n",
    "print(sub_df)"
   ]
  },
  {
   "attachments": {},
   "cell_type": "markdown",
   "metadata": {},
   "source": [
    "### `SettingWithCopyWarning`\n",
    "Subsetting된 DataFrame을 수정하려할 때 경고를 내어주지만, 항상 믿을만 한 것은 아님.  \n",
    "경고가 발생할 시, 앞 어디에선가 view나 copy가 이루어진 곳을 찾아 .copy()로 수정"
   ]
  },
  {
   "cell_type": "code",
   "execution_count": 11,
   "metadata": {},
   "outputs": [
    {
     "data": {
      "text/plain": [
       "   one  two  three\n",
       "0    0    1      2\n",
       "1    3    4      5\n",
       "2    6    7      8\n",
       "3    9   10     11"
      ]
     },
     "execution_count": 11,
     "metadata": {},
     "output_type": "execute_result"
    }
   ],
   "source": [
    "df = pd.DataFrame(np.arange(12).reshape(4, 3), columns=[\"one\", \"two\", \"three\"])\n",
    "df"
   ]
  },
  {
   "cell_type": "code",
   "execution_count": 12,
   "metadata": {},
   "outputs": [
    {
     "data": {
      "text/plain": [
       "   two  three\n",
       "0    1      2\n",
       "1    4      5\n",
       "2    7      8\n",
       "3   10     11"
      ]
     },
     "execution_count": 12,
     "metadata": {},
     "output_type": "execute_result"
    }
   ],
   "source": [
    "df_cols = df[[\"two\", \"three\"]] # copy\n",
    "df_cols"
   ]
  },
  {
   "cell_type": "code",
   "execution_count": 13,
   "metadata": {},
   "outputs": [],
   "source": [
    "df.iloc[0, 1] = -55"
   ]
  },
  {
   "cell_type": "code",
   "execution_count": 14,
   "metadata": {},
   "outputs": [
    {
     "name": "stdout",
     "output_type": "stream",
     "text": [
      "   one  two  three\n",
      "0    0  -55      2\n",
      "1    3    4      5\n",
      "2    6    7      8\n",
      "3    9   10     11\n",
      "   two  three\n",
      "0    1      2\n",
      "1    4      5\n",
      "2    7      8\n",
      "3   10     11\n"
     ]
    }
   ],
   "source": [
    "print(df)\n",
    "print(df_cols)"
   ]
  },
  {
   "attachments": {},
   "cell_type": "markdown",
   "metadata": {},
   "source": [
    "Subset을 수정하려하면 warning message!"
   ]
  },
  {
   "cell_type": "code",
   "execution_count": 15,
   "metadata": {},
   "outputs": [
    {
     "name": "stderr",
     "output_type": "stream",
     "text": [
      "/var/folders/mp/vcywncl97ml2q4c_5k2r573m0000gn/T/ipykernel_32149/2609376290.py:1: SettingWithCopyWarning: \n",
      "A value is trying to be set on a copy of a slice from a DataFrame\n",
      "\n",
      "See the caveats in the documentation: https://pandas.pydata.org/pandas-docs/stable/user_guide/indexing.html#returning-a-view-versus-a-copy\n",
      "  df_cols.iloc[0, 1] = -99\n"
     ]
    }
   ],
   "source": [
    "df_cols.iloc[0, 1] = -99"
   ]
  },
  {
   "cell_type": "code",
   "execution_count": 16,
   "metadata": {},
   "outputs": [
    {
     "name": "stdout",
     "output_type": "stream",
     "text": [
      "   two  three\n",
      "0    1    -99\n",
      "1    4      5\n",
      "2    7      8\n",
      "3   10     11\n",
      "   one  two  three\n",
      "0    0  -55      2\n",
      "1    3    4      5\n",
      "2    6    7      8\n",
      "3    9   10     11\n"
     ]
    }
   ],
   "source": [
    "print(df_cols)\n",
    "print(df)"
   ]
  },
  {
   "attachments": {},
   "cell_type": "markdown",
   "metadata": {},
   "source": [
    "Compare with below"
   ]
  },
  {
   "cell_type": "code",
   "execution_count": 17,
   "metadata": {},
   "outputs": [
    {
     "data": {
      "text/plain": [
       "   one  two  three\n",
       "0    0    1      2\n",
       "1    3    4      5\n",
       "2    6    7      8\n",
       "3    9   10     11"
      ]
     },
     "execution_count": 17,
     "metadata": {},
     "output_type": "execute_result"
    }
   ],
   "source": [
    "df = pd.DataFrame(np.arange(12).reshape(4, 3), columns=[\"one\", \"two\", \"three\"])\n",
    "df"
   ]
  },
  {
   "cell_type": "code",
   "execution_count": 18,
   "metadata": {},
   "outputs": [
    {
     "name": "stderr",
     "output_type": "stream",
     "text": [
      "/var/folders/mp/vcywncl97ml2q4c_5k2r573m0000gn/T/ipykernel_32149/2559386572.py:2: SettingWithCopyWarning: \n",
      "A value is trying to be set on a copy of a slice from a DataFrame\n",
      "\n",
      "See the caveats in the documentation: https://pandas.pydata.org/pandas-docs/stable/user_guide/indexing.html#returning-a-view-versus-a-copy\n",
      "  df_cols_2.iloc[0, 1] = -99\n"
     ]
    }
   ],
   "source": [
    "df_cols_2 = df.loc[:, \"two\":\"three\"] # view\n",
    "df_cols_2.iloc[0, 1] = -99"
   ]
  },
  {
   "cell_type": "code",
   "execution_count": 19,
   "metadata": {},
   "outputs": [
    {
     "name": "stdout",
     "output_type": "stream",
     "text": [
      "   two  three\n",
      "0    1    -99\n",
      "1    4      5\n",
      "2    7      8\n",
      "3   10     11\n",
      "   one  two  three\n",
      "0    0    1    -99\n",
      "1    3    4      5\n",
      "2    6    7      8\n",
      "3    9   10     11\n"
     ]
    }
   ],
   "source": [
    "print(df_cols_2)\n",
    "print(df)"
   ]
  },
  {
   "cell_type": "code",
   "execution_count": 20,
   "metadata": {},
   "outputs": [],
   "source": [
    "df_cols_3 = df.loc[:, [\"two\", \"three\"]]\n",
    "df_cols_3.iloc[0, 1] = -99\n",
    "\n",
    "# No warning"
   ]
  },
  {
   "cell_type": "code",
   "execution_count": 21,
   "metadata": {},
   "outputs": [
    {
     "name": "stdout",
     "output_type": "stream",
     "text": [
      "   two  three\n",
      "0    1    -99\n",
      "1    4      5\n",
      "2    7      8\n",
      "3   10     11\n",
      "   one  two  three\n",
      "0    0    1    -99\n",
      "1    3    4      5\n",
      "2    6    7      8\n",
      "3    9   10     11\n"
     ]
    }
   ],
   "source": [
    "print(df_cols_3)\n",
    "print(df)"
   ]
  },
  {
   "attachments": {},
   "cell_type": "markdown",
   "metadata": {},
   "source": [
    "강제로 copy: `df_cols.copy()`"
   ]
  },
  {
   "cell_type": "code",
   "execution_count": null,
   "metadata": {},
   "outputs": [],
   "source": [
    "df_cols_4 = df[[\"two\", \"three\"]].copy()\n",
    "df_cols_4.iloc[0, 1] = -99"
   ]
  },
  {
   "attachments": {},
   "cell_type": "markdown",
   "metadata": {},
   "source": [
    "::: {.callout-tip}\n",
    "Subset을 만들고 바로 분석을 할 것이 아니라면, 안전하게 `.copy()`를 쓰는 것을 추천\n",
    ":::"
   ]
  }
 ],
 "metadata": {
  "kernelspec": {
   "display_name": "envconda",
   "language": "python",
   "name": "python3"
  },
  "language_info": {
   "codemirror_mode": {
    "name": "ipython",
    "version": 3
   },
   "file_extension": ".py",
   "mimetype": "text/x-python",
   "name": "python",
   "nbconvert_exporter": "python",
   "pygments_lexer": "ipython3",
   "version": "3.11.0"
  },
  "orig_nbformat": 4
 },
 "nbformat": 4,
 "nbformat_minor": 2
}
