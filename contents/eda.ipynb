{
 "cells": [
  {
   "cell_type": "raw",
   "metadata": {},
   "source": [
    "---\n",
    "title: Exploratory data analysis\n",
    "subtitle: R for Data Science by Wickham & Grolemund\n",
    "date: Feb 11, 2023\n",
    "author: Sungkyun Cho\n",
    "---"
   ]
  },
  {
   "cell_type": "code",
   "execution_count": null,
   "metadata": {},
   "outputs": [],
   "source": [
    "#| echo: false\n",
    "# from IPython.display import display, HTML\n",
    "# HTML('<style>.output {flex-direction: row;}</style>')"
   ]
  },
  {
   "cell_type": "markdown",
   "metadata": {},
   "source": [
    "## 데이터 분석의 과정\n",
    "\n",
    "![](images/process.png){width=500 fig-align=\"center\"} <br />\n",
    "source: [R for Data Science](https://r4ds.had.co.nz/explore-intro.html)\n",
    "\n",
    "\n",
    "- Transform (데이터 변형)\n",
    "    - 데이터의 변수들 중 일부를 선택하기\n",
    "    - 필요한 부분를 필터링하기\n",
    "    - 기존의 변수들로 새로운 변수 만들기\n",
    "    - 요약자료를 계산하기\n",
    "- Visualise (시각화)\n",
    "    - 시각화를 통해 데이터가 품고 있는 정보를 파악하여 데이터에 대한 이해를 높임\n",
    "- Model (모형)\n",
    "    - 시각화와 데이터 변형의 두 가지를 병행하면서 호기심과 의구심을 갖고 연구자가 자신의 관심사에 답을 구하는 탐색적 분석을 하는 과정\n",
    "    - 이 과정에서 모형을 세우고 데이터를 얼마나 잘 설명하는지를 살펴보고, 모형을 수정해 나가는 과정을 거침"
   ]
  },
  {
   "cell_type": "markdown",
   "metadata": {},
   "source": [
    "## First steps"
   ]
  },
  {
   "cell_type": "code",
   "execution_count": null,
   "metadata": {},
   "outputs": [],
   "source": [
    "#| code-fold: true\n",
    "#| code-summary: Load packages\n",
    "\n",
    "# numerical calculation & data frames\n",
    "import numpy as np\n",
    "import pandas as pd\n",
    "\n",
    "# visualization\n",
    "import matplotlib.pyplot as plt\n",
    "import seaborn as sns\n",
    "import seaborn.objects as so\n",
    "import plotly.express as px\n",
    "\n",
    "# statistics\n",
    "import statsmodels.api as sm"
   ]
  },
  {
   "cell_type": "markdown",
   "metadata": {},
   "source": [
    "Data: *Fuel economy data from 1999 to 2008 for 38 popular models of cars* \\"
   ]
  },
  {
   "cell_type": "code",
   "execution_count": null,
   "metadata": {},
   "outputs": [],
   "source": [
    "# import the dataset\n",
    "mpg_data = sm.datasets.get_rdataset(\"mpg\", \"ggplot2\")\n",
    "mpg = mpg_data.data"
   ]
  },
  {
   "cell_type": "code",
   "execution_count": null,
   "metadata": {},
   "outputs": [],
   "source": [
    "#| output: false\n",
    "# Description\n",
    "print(mpg_data.__doc__)"
   ]
  },
  {
   "cell_type": "code",
   "execution_count": null,
   "metadata": {},
   "outputs": [],
   "source": [
    "mpg"
   ]
  },
  {
   "cell_type": "markdown",
   "metadata": {},
   "source": [
    "  \n",
    "  \n",
    "Q: 엔진의 크기(displ)와 연비(hwy)는 어떤 관계에 있는가?"
   ]
  },
  {
   "cell_type": "code",
   "execution_count": null,
   "metadata": {},
   "outputs": [],
   "source": [
    "(\n",
    "    so.Plot(mpg, x=\"displ\", y=\"hwy\") # empty plot을 생성하고, x, y축에 mapping할 mpg 데이터의 변수를 지정\n",
    "    .add(so.Dot()) # layer를 추가하여, points들을 Dot이라는 mark object를 써서 표현\n",
    ")"
   ]
  },
  {
   "cell_type": "markdown",
   "metadata": {},
   "source": [
    "::: {.callout-important}\n",
    "\n",
    "***Layer-specific mappings***\n",
    "\n",
    "다음과 같이 첫번째 layer 안에서 x, y를 mapping하는 경우, 이후 새로 추가되는 layer에는 그 mapping이 적용되지 않음\n",
    "\n",
    "```\n",
    "(\n",
    "    so.Plot(mpg)\n",
    "    .add(so.Dot(), x=\"displ\", y=\"hwy\") # 이 layer에서만 mapping이 유효\n",
    ")\n",
    "```\n",
    "\n",
    ":::"
   ]
  },
  {
   "cell_type": "markdown",
   "metadata": {},
   "source": [
    "::: {.callout-tip}\n",
    "\n",
    "다음과 같이 x, y를 생략하거나 간략히 할 수 있으나...\n",
    "\n",
    "```\n",
    "so.Plot(mpg, \"displ\", \"hwy\").add(so.Dot())\n",
    "```\n",
    "\n",
    ":::"
   ]
  },
  {
   "cell_type": "markdown",
   "metadata": {},
   "source": [
    "#### 카테고리 변수인 경우\n",
    "\n",
    "- cyl (실린더 개수), hwy (고속도로 연비)의 관계를 scatterplot으로 살펴볼 수 있는가? (left)\n",
    "- class (차량 타입), drv (전륜 구동, 후륜 구동, 4륜 구동 타입)의 관계는 어떠한가? (right)"
   ]
  },
  {
   "cell_type": "code",
   "execution_count": null,
   "metadata": {},
   "outputs": [],
   "source": [
    "#| echo: false\n",
    "\n",
    "(\n",
    "    so.Plot(mpg)\n",
    "    .pair(\n",
    "        x=[\"cyl\", \"drv\"],\n",
    "        y=[\"hwy\", \"class\"],\n",
    "        cross=False,\n",
    "    )\n",
    "    .add(so.Dot())\n",
    "    .layout(size=(10, 4))\n",
    ")"
   ]
  },
  {
   "cell_type": "markdown",
   "metadata": {},
   "source": [
    "## Aesthetic mappings\n",
    "\n",
    "Q: 엔진의 크기와 연비와의 관계에서 보이는 트렌드 라인에서 심하게 벗어난 것이 있는가?"
   ]
  },
  {
   "cell_type": "code",
   "execution_count": null,
   "metadata": {},
   "outputs": [],
   "source": [
    "#| echo: false\n",
    "\n",
    "mpg_2seater = mpg[mpg['class'] == \"2seater\"]\n",
    "\n",
    "(\n",
    "    so.Plot(mpg, x=\"displ\", y=\"hwy\")\n",
    "    .add(so.Dot())\n",
    "    .add(so.Dot(color=\"red\"), x=mpg_2seater.displ, y=mpg_2seater.hwy)\n",
    ")\n"
   ]
  },
  {
   "cell_type": "markdown",
   "metadata": {},
   "source": [
    "<br />\n",
    "변수들을 x, y라는 position에 mapping하는 것에 추가하여 다음과 같은 속성(aesthetic)에 mapping할 수 있음\n",
    "\n",
    "**색(color), 크기(pointsize), 모양(marker), 선 종류(linestyle), 투명도(alpha)**\n",
    "\n",
    "![](images/aesthetics.png){width=400}"
   ]
  },
  {
   "cell_type": "markdown",
   "metadata": {},
   "source": [
    "### Color"
   ]
  },
  {
   "cell_type": "code",
   "execution_count": null,
   "metadata": {},
   "outputs": [],
   "source": [
    "(\n",
    "    so.Plot(mpg, x=\"displ\", y=\"hwy\", color=\"class\")\n",
    "    .add(so.Dot())\n",
    ")"
   ]
  },
  {
   "cell_type": "markdown",
   "metadata": {},
   "source": [
    "### Pointsize"
   ]
  },
  {
   "cell_type": "code",
   "execution_count": null,
   "metadata": {},
   "outputs": [],
   "source": [
    "(\n",
    "    so.Plot(mpg, x=\"displ\", y=\"hwy\", pointsize=\"class\")\n",
    "    .add(so.Dot())\n",
    ")"
   ]
  },
  {
   "cell_type": "markdown",
   "metadata": {},
   "source": [
    "### Marker"
   ]
  },
  {
   "cell_type": "code",
   "execution_count": null,
   "metadata": {},
   "outputs": [],
   "source": [
    "(\n",
    "    so.Plot(mpg, x=\"displ\", y=\"hwy\", marker=\"class\")\n",
    "    .add(so.Dot())\n",
    ")"
   ]
  },
  {
   "cell_type": "markdown",
   "metadata": {},
   "source": [
    "### Alpha"
   ]
  },
  {
   "cell_type": "code",
   "execution_count": null,
   "metadata": {},
   "outputs": [],
   "source": [
    "(\n",
    "    so.Plot(mpg, x=\"displ\", y=\"hwy\", alpha=\"class\")\n",
    "    .add(so.Dot())\n",
    ")"
   ]
  },
  {
   "cell_type": "markdown",
   "metadata": {},
   "source": [
    "### Linestyle"
   ]
  },
  {
   "cell_type": "code",
   "execution_count": null,
   "metadata": {},
   "outputs": [],
   "source": [
    "healthexp = sns.load_dataset(\"healthexp\")\n",
    "\n",
    "p = so.Plot(healthexp, x=\"Spending_USD\", y=\"Life_Expectancy\", linestyle=\"Country\")\n",
    "p.add(so.Line())"
   ]
  },
  {
   "cell_type": "markdown",
   "metadata": {},
   "source": [
    "### 두 가지 이상의 속성\n",
    "ex. color & marker"
   ]
  },
  {
   "cell_type": "code",
   "execution_count": null,
   "metadata": {},
   "outputs": [],
   "source": [
    "(\n",
    "    so.Plot(mpg, x=\"displ\", y=\"hwy\", color=\"class\", marker=\"drv\")\n",
    "    .add(so.Dot())\n",
    ")"
   ]
  },
  {
   "cell_type": "code",
   "execution_count": null,
   "metadata": {},
   "outputs": [],
   "source": [
    "(\n",
    "    so.Plot(mpg, x=\"displ\", y=\"hwy\", color=\"class\", pointsize=\"drv\")\n",
    "    .add(so.Dot())\n",
    "    .scale(pointsize=(5, 15)) # pointsize의 range설정\n",
    ")"
   ]
  },
  {
   "cell_type": "markdown",
   "metadata": {},
   "source": [
    "::: {.callout-important}\n",
    "\n",
    "*어떤 속성을 어떤 변수에 할당하는 것이 적절한지를 선택하는 것이 기술*  \n",
    "예를 들어, 아래 두 플랏은 동일한 정보를 품고 있으나, 시각적 인식에 큰 차이를 만듦\n",
    "\n",
    ":::"
   ]
  },
  {
   "cell_type": "code",
   "execution_count": null,
   "metadata": {},
   "outputs": [],
   "source": [
    "#| echo: false\n",
    "\n",
    "wdi_2020 = pd.read_csv(\"data/wdi_2020.csv\")\n",
    "wdi_2020.head()\n",
    "\n",
    "(\n",
    "    so.Plot(wdi_2020, x=\"log_gdp\", y=\"child_mortality\")\n",
    "    .add(so.Dot(edgecolor=\"white\", alpha=.5), pointsize=\"pop\", color=\"region\")\n",
    "    .scale(pointsize=(6, 50))\n",
    "    .label(x=\"Log GDP per Capita\", y=\"Under-5 Mortality Rate\")\n",
    "    .layout(size=(6, 4))\n",
    ")"
   ]
  },
  {
   "cell_type": "code",
   "execution_count": null,
   "metadata": {},
   "outputs": [],
   "source": [
    "#| echo: false\n",
    "\n",
    "(\n",
    "    so.Plot(wdi_2020, x=\"pop\", y=\"child_mortality\")\n",
    "    .add(so.Dot(edgecolor=\"white\", alpha=.5), pointsize=\"log_gdp\", color=\"region\")\n",
    "    .scale(pointsize=(1, 30))\n",
    "    .label(x=\"Population\", y=\"Under-5 Mortality Rate\", pointsize=\"Log GDP per Capita\")\n",
    "    .layout(size=(6, 4))\n",
    ")"
   ]
  },
  {
   "cell_type": "markdown",
   "metadata": {},
   "source": [
    "연속 vs. 카테고리 변수 여부에 따라 다르게 작동"
   ]
  },
  {
   "cell_type": "code",
   "execution_count": null,
   "metadata": {},
   "outputs": [],
   "source": [
    "left = so.Plot(mpg, x=\"displ\", y=\"hwy\", color=\"class\").add(so.Dot()).layout(engine=\"constrained\")\n",
    "\n",
    "right = so.Plot(mpg, x=\"displ\", y=\"hwy\", color=\"cty\").add(so.Dot()).layout(engine=\"constrained\")"
   ]
  },
  {
   "cell_type": "code",
   "execution_count": null,
   "metadata": {},
   "outputs": [],
   "source": [
    "#| label: fig-charts\n",
    "#| fig-cap: Categorical vs. Continuous\n",
    "#| fig-subcap: \n",
    "#|   - \"type of car\"\n",
    "#|   - \"city miles per gallon\"\n",
    "#| layout-ncol: 2\n",
    "#| echo: false\n",
    "\n",
    "left.show()\n",
    "right.show()"
   ]
  },
  {
   "cell_type": "code",
   "execution_count": null,
   "metadata": {},
   "outputs": [],
   "source": [
    "(\n",
    "    so.Plot(mpg, x=\"displ\", y=\"hwy\", color=\"cty\")\n",
    "    .add(so.Dot())\n",
    "    .scale(color=so.Continuous(\"crest\", norm=(0, 50), trans=\"sqrt\"))\n",
    ")"
   ]
  },
  {
   "cell_type": "markdown",
   "metadata": {},
   "source": [
    "## Setting properties\n",
    "\n",
    "Setting properties vs. mapping properties (aesthetic)\n",
    "\n",
    "**변수**에 속성을 할당하는 것이 아니라, graphical objects (Marks)의 속성을 지정\n",
    "\n",
    "Marks (.Dot(), .Line(), .Bar(), ...)마다 설정할 수 있는 속성이 다름\n",
    "\n",
    "주로 쓰이는 속성들: `color`, `pointsize`, `alpha`\n"
   ]
  },
  {
   "cell_type": "markdown",
   "metadata": {},
   "source": [
    "> `.Dot()`의 경우  \n",
    "> *class seaborn.objects.Dot(artist_kws=<factory>, marker=<'o'>, pointsize=<6>, stroke=<0.75>, color=<'C0'>, alpha=<1>, fill=<True>, edgecolor=<depend:color>, edgealpha=<depend:alpha>, edgewidth=<0.5>, edgestyle=<'-'>)*\n",
    ">\n",
    "> `.Dots()`의 경우  \n",
    "> *class seaborn.objects.Dots(artist_kws=<factory>, marker=<rc:scatter.marker>, pointsize=<4>, stroke=<0.75>, color=<'C0'>, alpha=<1>, fill=<True>, fillcolor=<depend:color>, fillalpha=<0.2>)*\n",
    ">\n",
    "> [seaborn reference](https://seaborn.pydata.org/api.html)"
   ]
  },
  {
   "cell_type": "code",
   "execution_count": null,
   "metadata": {},
   "outputs": [],
   "source": [
    "(\n",
    "    so.Plot(mpg, x=\"displ\", y=\"hwy\")\n",
    "    .add(so.Dot(color=\"deepskyblue\")) # Mark object 안에 지정!\n",
    ")"
   ]
  },
  {
   "cell_type": "code",
   "execution_count": null,
   "metadata": {},
   "outputs": [],
   "source": [
    "(\n",
    "    so.Plot(mpg, x=\"displ\", y=\"hwy\")\n",
    "    .add(so.Dot(color=\"deepskyblue\", pointsize=12, edgecolor=\"white\", edgewidth=1)) # Mark object 안에 지정!\n",
    ")"
   ]
  },
  {
   "cell_type": "code",
   "execution_count": null,
   "metadata": {},
   "outputs": [],
   "source": [
    "(\n",
    "    so.Plot(mpg, x=\"displ\", y=\"hwy\")\n",
    "    .add(so.Dot(color=\"orange\", pointsize=12, marker=\">\", alpha=.4)) # Mark object 안에 지정!\n",
    ")"
   ]
  },
  {
   "cell_type": "markdown",
   "metadata": {},
   "source": [
    "::: {.callout-tip}\n",
    "다양한 Mark properties에 대해서는 홈페이지 참고  \n",
    "[Properties of Mark objects](https://seaborn.pydata.org/tutorial/properties.html)\n",
    ":::"
   ]
  },
  {
   "cell_type": "markdown",
   "metadata": {},
   "source": [
    "## Faceting\n",
    "\n",
    "카테고리 변수들이 지니는 카테고리들(레벨)로 나누어 그리기"
   ]
  },
  {
   "cell_type": "markdown",
   "metadata": {},
   "source": [
    "Data: palmerpenguins"
   ]
  },
  {
   "cell_type": "markdown",
   "metadata": {},
   "source": [
    "::: {layout-ncol=2}\n",
    "![](images/lter_penguins.png)\n",
    "Artwork by @allison_horst\n",
    "\n",
    "![](images/culmen_depth.png)\n",
    ":::"
   ]
  },
  {
   "cell_type": "code",
   "execution_count": null,
   "metadata": {},
   "outputs": [],
   "source": [
    "penguins = sns.load_dataset(\"penguins\") # load a dataset: penguins\n",
    "penguins.head()"
   ]
  },
  {
   "cell_type": "code",
   "execution_count": null,
   "metadata": {},
   "outputs": [],
   "source": [
    "(\n",
    "    so.Plot(penguins, x=\"body_mass_g\", y=\"flipper_length_mm\")\n",
    "    .facet(\"sex\") # 기본적으로 columns으로 나누어져 그림\n",
    "    .add(so.Dot(alpha=.5))\n",
    ")"
   ]
  },
  {
   "cell_type": "code",
   "execution_count": null,
   "metadata": {},
   "outputs": [],
   "source": [
    "(\n",
    "    so.Plot(penguins, x=\"body_mass_g\", y=\"flipper_length_mm\")\n",
    "    .facet(col=\"species\", row=\"sex\")\n",
    "    .add(so.Dot(alpha=.5))\n",
    ")"
   ]
  },
  {
   "cell_type": "markdown",
   "metadata": {},
   "source": [
    "::: {.callout-important}\n",
    "Facet과 Color 중 어떤 방식으로 표현하는 것이 유리한가? 밸런스를 잘 선택!\n",
    ":::"
   ]
  },
  {
   "cell_type": "code",
   "execution_count": null,
   "metadata": {},
   "outputs": [],
   "source": [
    "left = (\n",
    "    so.Plot(penguins, x=\"body_mass_g\", y=\"flipper_length_mm\")\n",
    "    .facet(col=\"species\")\n",
    "    .add(so.Dot(alpha=.5))\n",
    ")\n",
    "right = (\n",
    "    so.Plot(penguins, x=\"body_mass_g\", y=\"flipper_length_mm\", color=\"species\")\n",
    "    .add(so.Dot(alpha=.5))\n",
    ")"
   ]
  },
  {
   "cell_type": "code",
   "execution_count": null,
   "metadata": {},
   "outputs": [],
   "source": [
    "#| label: fig-charts2\n",
    "#| fig-cap: faceting vs. color mapping\n",
    "#| fig-subcap: \n",
    "#|   - \"faceting\"\n",
    "#|   - \"color mapping\"\n",
    "#| layout-ncol: 2\n",
    "#| echo: false\n",
    "\n",
    "left.show()\n",
    "right.show()"
   ]
  },
  {
   "cell_type": "markdown",
   "metadata": {},
   "source": [
    "### Pairing\n",
    "\n",
    "Faceting이 변수 내에 **다른 레벨**에 따라 그려지는데 반해,  \n",
    "paring은 x, y축에 **다른 변수**를 지정하여 그림"
   ]
  },
  {
   "cell_type": "code",
   "execution_count": null,
   "metadata": {},
   "outputs": [],
   "source": [
    "(\n",
    "    so.Plot(penguins, y=\"body_mass_g\", color=\"species\") # y축은 공유\n",
    "    .pair(x=[\"bill_length_mm\", \"bill_depth_mm\"]) # x축에 다른 변수를 mapping\n",
    "    .add(so.Dots()) # .Dots()! overploting에 유리. .Dot(alpha=.)로도 비슷\n",
    ")"
   ]
  },
  {
   "cell_type": "markdown",
   "metadata": {},
   "source": [
    "Facet & pair 동시"
   ]
  },
  {
   "cell_type": "code",
   "execution_count": null,
   "metadata": {},
   "outputs": [],
   "source": [
    "(\n",
    "    so.Plot(penguins, y=\"body_mass_g\", color=\"sex\")\n",
    "    .pair(x=[\"bill_length_mm\", \"bill_depth_mm\"])\n",
    "    .facet(row=\"species\")\n",
    "    .add(so.Dots())\n",
    ")"
   ]
  },
  {
   "cell_type": "markdown",
   "metadata": {},
   "source": [
    "### Multiple plots  \n",
    "개발 중...? Matplotlib을 이용"
   ]
  },
  {
   "cell_type": "code",
   "execution_count": null,
   "metadata": {},
   "outputs": [],
   "source": [
    "import matplotlib as mpl\n",
    "\n",
    "f = mpl.figure.Figure(figsize=(8, 4))\n",
    "sf1, sf2 = f.subfigures(1, 2)\n",
    "(\n",
    "    so.Plot(penguins, x=\"body_mass_g\", y=\"flipper_length_mm\")\n",
    "    .add(so.Dots())\n",
    "    .on(sf1)\n",
    "    .plot()\n",
    ")\n",
    "(\n",
    "    so.Plot(penguins, x=\"bill_length_mm\", y=\"flipper_length_mm\")\n",
    "    .facet(row=\"sex\")\n",
    "    .add(so.Dots())\n",
    "    .on(sf2)\n",
    "    .plot()\n",
    ")"
   ]
  },
  {
   "cell_type": "markdown",
   "metadata": {},
   "source": [
    "Save plots\n",
    "\n",
    "`p.save(\"data/filename.png\")` *# p: a plot oject*"
   ]
  },
  {
   "cell_type": "markdown",
   "metadata": {},
   "source": [
    "## Geometric objects \n",
    "\n",
    "- Dot marks: `Dot`, `Dots`\n",
    "- Line marks: `Line`, `Lines`, `Path`, `Paths`, `Dash`, `Range`\n",
    "- Bar marks: `Bar`, `Bars`\n",
    "- Fill marks: `Area`, `Band`\n",
    "- Text marks: `Text`"
   ]
  },
  {
   "cell_type": "code",
   "execution_count": null,
   "metadata": {},
   "outputs": [],
   "source": [
    "import plotly.express as px\n",
    "fig = px.box(penguins, x=\"species\", y=\"bill_length_mm\", color=\"island\",  facet_col=\"sex\")\n",
    "fig.show()"
   ]
  },
  {
   "cell_type": "code",
   "execution_count": null,
   "metadata": {},
   "outputs": [],
   "source": [
    "sns.catplot(\n",
    "    data=penguins, x=\"species\", y=\"bill_length_mm\", hue=\"island\", col=\"sex\",\n",
    "    kind=\"box\", height=4, aspect=.6,\n",
    ")"
   ]
  },
  {
   "cell_type": "markdown",
   "metadata": {},
   "source": []
  },
  {
   "cell_type": "code",
   "execution_count": null,
   "metadata": {},
   "outputs": [],
   "source": [
    "import plotly.express as px\n",
    "df = px.data.tips()\n",
    "fig = px.scatter(df, x=\"total_bill\", y=\"tip\", color=\"smoker\", facet_col=\"sex\")\n",
    "fig.show()"
   ]
  },
  {
   "cell_type": "code",
   "execution_count": null,
   "metadata": {},
   "outputs": [],
   "source": [
    "import plotly.express as px\n",
    "df = px.data.tips()\n",
    "fig = px.scatter(df, x=\"total_bill\", y=\"tip\", color=\"smoker\")\n",
    "fig.show()"
   ]
  },
  {
   "cell_type": "markdown",
   "metadata": {},
   "source": []
  },
  {
   "cell_type": "code",
   "execution_count": null,
   "metadata": {},
   "outputs": [],
   "source": []
  },
  {
   "cell_type": "markdown",
   "metadata": {},
   "source": [
    "### Overploting"
   ]
  },
  {
   "cell_type": "markdown",
   "metadata": {},
   "source": [
    "### Adding multiple layers"
   ]
  },
  {
   "cell_type": "markdown",
   "metadata": {},
   "source": [
    "![](images/mapping.png){width=300}"
   ]
  },
  {
   "cell_type": "code",
   "execution_count": null,
   "metadata": {},
   "outputs": [],
   "source": []
  },
  {
   "cell_type": "markdown",
   "metadata": {},
   "source": []
  },
  {
   "cell_type": "markdown",
   "metadata": {},
   "source": [
    "## Layer-specific mappings"
   ]
  },
  {
   "cell_type": "markdown",
   "metadata": {},
   "source": []
  },
  {
   "cell_type": "code",
   "execution_count": null,
   "metadata": {},
   "outputs": [],
   "source": []
  },
  {
   "cell_type": "code",
   "execution_count": null,
   "metadata": {},
   "outputs": [],
   "source": [
    "penguins = sns.load_dataset(\"penguins\")\n",
    "\n",
    "(\n",
    "    so.Plot(penguins, x=\"body_mass_g\", y=\"species\", color=\"island\")\n",
    "    .facet(col=\"sex\")\n",
    "    .add(so.Dot(), so.Jitter(.5))\n",
    "    .share(x=False)\n",
    "    .limit(y=(2.5, -.5))\n",
    "    .label(\n",
    "        x=\"Body mass (g)\", y=\"\",\n",
    "        color=str.capitalize,\n",
    "        title=\"{} penguins\".format,\n",
    "    )\n",
    ")"
   ]
  },
  {
   "cell_type": "code",
   "execution_count": null,
   "metadata": {},
   "outputs": [],
   "source": [
    "p.save(\"filename.png\")"
   ]
  }
 ],
 "metadata": {
  "kernelspec": {
   "display_name": "envconda",
   "language": "python",
   "name": "python3"
  },
  "language_info": {
   "codemirror_mode": {
    "name": "ipython",
    "version": 3
   },
   "file_extension": ".py",
   "mimetype": "text/x-python",
   "name": "python",
   "nbconvert_exporter": "python",
   "pygments_lexer": "ipython3",
   "version": "3.11.0"
  },
  "vscode": {
   "interpreter": {
    "hash": "74ad319f5187b0352e4d45e7895ccc03a7dd9505bde9d93fefd838a3430f7b7f"
   }
  }
 },
 "nbformat": 4,
 "nbformat_minor": 4
}
