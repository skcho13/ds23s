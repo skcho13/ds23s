{
 "cells": [
  {
   "cell_type": "raw",
   "metadata": {},
   "source": [
    "---\n",
    "title: Combine\n",
    "subtitle: R for Data Science by Wickham & Grolemund\n",
    "date: Feb 11, 2023\n",
    "author: Sungkyun Cho\n",
    "---"
   ]
  },
  {
   "cell_type": "code",
   "execution_count": 1,
   "metadata": {},
   "outputs": [],
   "source": [
    "#| code-summary: Load Packages\n",
    "#| code-fold: true\n",
    "\n",
    "# numerical calculation & data frames\n",
    "import numpy as np\n",
    "import pandas as pd\n",
    "\n",
    "# visualization\n",
    "import matplotlib.pyplot as plt\n",
    "import seaborn as sns\n",
    "import seaborn.objects as so\n",
    "\n",
    "# statistics\n",
    "import statsmodels.api as sm"
   ]
  },
  {
   "cell_type": "code",
   "execution_count": 2,
   "metadata": {},
   "outputs": [],
   "source": [
    "#| echo: false\n",
    "from IPython.display import display, HTML\n",
    "HTML('<style>.output {flex-direction: row;}</style>')\n",
    "pd.options.display.notebook_repr_html = False"
   ]
  },
  {
   "cell_type": "code",
   "execution_count": 3,
   "metadata": {},
   "outputs": [],
   "source": [
    "#| code-summary: Options\n",
    "#| code-fold: true\n",
    "\n",
    "# pandas options\n",
    "pd.options.display.precision = 2\n",
    "pd.options.display.float_format = '{:.2f}'.format  # pd.reset_option('display.float_format')\n",
    "pd.options.display.max_rows = 7\n",
    "\n",
    "# Numpy options\n",
    "np.set_printoptions(precision = 2, suppress=True)"
   ]
  },
  {
   "attachments": {},
   "cell_type": "markdown",
   "metadata": {},
   "source": [
    "# Relational Data\n",
    "![](images/nycflights.png){width=700}\n",
    "\n",
    "**nycflights13**\n",
    "\n",
    "`flights`, `airlines`, `airports`, `planes`, `weather` are related"
   ]
  },
  {
   "cell_type": "code",
   "execution_count": 5,
   "metadata": {},
   "outputs": [],
   "source": [
    "# Load the nycflight13 dataset\n",
    "flights = sm.datasets.get_rdataset(\"flights\", \"nycflights13\").data.drop(columns=\"time_hour\")"
   ]
  },
  {
   "cell_type": "code",
   "execution_count": 6,
   "metadata": {},
   "outputs": [
    {
     "data": {
      "text/plain": [
       "   carrier                    name\n",
       "0       9E       Endeavor Air Inc.\n",
       "1       AA  American Airlines Inc.\n",
       "2       AS    Alaska Airlines Inc.\n",
       "..     ...                     ...\n",
       "13      VX          Virgin America\n",
       "14      WN  Southwest Airlines Co.\n",
       "15      YV      Mesa Airlines Inc.\n",
       "\n",
       "[16 rows x 2 columns]"
      ]
     },
     "execution_count": 6,
     "metadata": {},
     "output_type": "execute_result"
    }
   ],
   "source": [
    "airlines = sm.datasets.get_rdataset(\"airlines\", \"nycflights13\").data\n",
    "airlines"
   ]
  },
  {
   "cell_type": "code",
   "execution_count": 7,
   "metadata": {},
   "outputs": [
    {
     "data": {
      "text/plain": [
       "      faa                           name   lat    lon   alt  tz dst  \\\n",
       "0     04G              Lansdowne Airport 41.13 -80.62  1044  -5   A   \n",
       "1     06A  Moton Field Municipal Airport 32.46 -85.68   264  -6   A   \n",
       "2     06C            Schaumburg Regional 41.99 -88.10   801  -6   A   \n",
       "...   ...                            ...   ...    ...   ...  ..  ..   \n",
       "1455  ZWI      Wilmington Amtrak Station 39.74 -75.55     0  -5   A   \n",
       "1456  ZWU       Washington Union Station 38.90 -77.01    76  -5   A   \n",
       "1457  ZYP                   Penn Station 40.75 -73.99    35  -5   A   \n",
       "\n",
       "                 tzone  \n",
       "0     America/New_York  \n",
       "1      America/Chicago  \n",
       "2      America/Chicago  \n",
       "...                ...  \n",
       "1455  America/New_York  \n",
       "1456  America/New_York  \n",
       "1457  America/New_York  \n",
       "\n",
       "[1458 rows x 8 columns]"
      ]
     },
     "execution_count": 7,
     "metadata": {},
     "output_type": "execute_result"
    }
   ],
   "source": [
    "airports = sm.datasets.get_rdataset(\"airports\", \"nycflights13\").data\n",
    "airports"
   ]
  },
  {
   "cell_type": "code",
   "execution_count": 8,
   "metadata": {},
   "outputs": [
    {
     "data": {
      "text/plain": [
       "     tailnum    year                     type                   manufacturer  \\\n",
       "0     N10156 2004.00  Fixed wing multi engine                        EMBRAER   \n",
       "1     N102UW 1998.00  Fixed wing multi engine               AIRBUS INDUSTRIE   \n",
       "2     N103US 1999.00  Fixed wing multi engine               AIRBUS INDUSTRIE   \n",
       "...      ...     ...                      ...                            ...   \n",
       "3319  N998AT 2002.00  Fixed wing multi engine                         BOEING   \n",
       "3320  N998DL 1992.00  Fixed wing multi engine  MCDONNELL DOUGLAS CORPORATION   \n",
       "3321  N999DN 1992.00  Fixed wing multi engine  MCDONNELL DOUGLAS CORPORATION   \n",
       "\n",
       "          model  engines  seats  speed     engine  \n",
       "0     EMB-145XR        2     55    NaN  Turbo-fan  \n",
       "1      A320-214        2    182    NaN  Turbo-fan  \n",
       "2      A320-214        2    182    NaN  Turbo-fan  \n",
       "...         ...      ...    ...    ...        ...  \n",
       "3319    717-200        2    100    NaN  Turbo-fan  \n",
       "3320      MD-88        2    142    NaN  Turbo-jet  \n",
       "3321      MD-88        2    142    NaN  Turbo-jet  \n",
       "\n",
       "[3322 rows x 9 columns]"
      ]
     },
     "execution_count": 8,
     "metadata": {},
     "output_type": "execute_result"
    }
   ],
   "source": [
    "planes = sm.datasets.get_rdataset(\"planes\", \"nycflights13\").data\n",
    "planes"
   ]
  },
  {
   "cell_type": "code",
   "execution_count": 9,
   "metadata": {},
   "outputs": [
    {
     "data": {
      "text/plain": [
       "      origin  year  month  day  hour  temp  dewp  humid  wind_dir  wind_speed  \\\n",
       "0        EWR  2013      1    1     1 39.02 26.06  59.37    270.00       10.36   \n",
       "1        EWR  2013      1    1     2 39.02 26.96  61.63    250.00        8.06   \n",
       "2        EWR  2013      1    1     3 39.02 28.04  64.43    240.00       11.51   \n",
       "...      ...   ...    ...  ...   ...   ...   ...    ...       ...         ...   \n",
       "26112    LGA  2013     12   30    16 32.00 15.08  49.19    340.00       14.96   \n",
       "26113    LGA  2013     12   30    17 30.92 12.92  46.74    320.00       17.26   \n",
       "26114    LGA  2013     12   30    18 28.94 10.94  46.41    330.00       18.41   \n",
       "\n",
       "       wind_gust  precip  pressure  visib            time_hour  \n",
       "0            NaN    0.00   1012.00  10.00  2013-01-01 01:00:00  \n",
       "1            NaN    0.00   1012.30  10.00  2013-01-01 02:00:00  \n",
       "2            NaN    0.00   1012.50  10.00  2013-01-01 03:00:00  \n",
       "...          ...     ...       ...    ...                  ...  \n",
       "26112      23.02    0.00   1019.50  10.00  2013-12-30 16:00:00  \n",
       "26113        NaN    0.00   1019.90  10.00  2013-12-30 17:00:00  \n",
       "26114        NaN    0.00   1020.90  10.00  2013-12-30 18:00:00  \n",
       "\n",
       "[26115 rows x 15 columns]"
      ]
     },
     "execution_count": 9,
     "metadata": {},
     "output_type": "execute_result"
    }
   ],
   "source": [
    "weather = sm.datasets.get_rdataset(\"weather\", \"nycflights13\").data\n",
    "weather"
   ]
  },
  {
   "attachments": {},
   "cell_type": "markdown",
   "metadata": {},
   "source": [
    "## Keys: 두 쌍의 테이블을 연결하는데 사용되는 변수\n",
    "\n",
    "- primary key ~ foreign key: relation\n",
    "  - **A primary key**: uniquely identifies an observation in its own table.\n",
    "      - planes의 tailnum\n",
    "  - **A foreign key:** uniquely identifies an observation in another table.\n",
    "      - flights의 tailnum in relation to planes\n",
    "- relation은 1-1, 1-many, many-1, many-many 일수 있음"
   ]
  },
  {
   "attachments": {},
   "cell_type": "markdown",
   "metadata": {},
   "source": [
    "## Primary key를 확인하는 방법\n",
    "\n",
    "`planes`의 경우 `tailnum`가 primary key?"
   ]
  },
  {
   "cell_type": "code",
   "execution_count": 10,
   "metadata": {},
   "outputs": [
    {
     "data": {
      "text/plain": [
       "0"
      ]
     },
     "execution_count": 10,
     "metadata": {},
     "output_type": "execute_result"
    }
   ],
   "source": [
    "planes.duplicated(subset=\"tailnum\").sum()"
   ]
  },
  {
   "cell_type": "code",
   "execution_count": 11,
   "metadata": {},
   "outputs": [
    {
     "data": {
      "text/plain": [
       "0"
      ]
     },
     "execution_count": 11,
     "metadata": {},
     "output_type": "execute_result"
    }
   ],
   "source": [
    "(planes.value_counts(\"tailnum\") > 1).sum()"
   ]
  },
  {
   "attachments": {},
   "cell_type": "markdown",
   "metadata": {},
   "source": [
    "`weather`의 경우 네 변수 `year`, `month`, `day`, `hour`, `origin`의 조합이 primary key일 수 있으나..."
   ]
  },
  {
   "cell_type": "code",
   "execution_count": 12,
   "metadata": {},
   "outputs": [
    {
     "data": {
      "text/plain": [
       "   year  month  day  hour origin  n\n",
       "0  2013     11    3     1    EWR  2\n",
       "1  2013     11    3     1    JFK  2\n",
       "2  2013     11    3     1    LGA  2"
      ]
     },
     "execution_count": 12,
     "metadata": {},
     "output_type": "execute_result"
    }
   ],
   "source": [
    "(\n",
    "    weather\n",
    "    .value_counts([\"year\", \"month\", \"day\", \"hour\", \"origin\"])\n",
    "    .reset_index(name=\"n\").query('n > 1')\n",
    ")"
   ]
  },
  {
   "attachments": {},
   "cell_type": "markdown",
   "metadata": {},
   "source": [
    "primary key가 되려면 다음과 같이 불명확한 정보를 처리한 후 사용"
   ]
  },
  {
   "cell_type": "code",
   "execution_count": 13,
   "metadata": {},
   "outputs": [
    {
     "data": {
      "text/plain": [
       "      origin  year  month  day  hour  temp  dewp  humid  wind_dir  wind_speed  \\\n",
       "7318     EWR  2013     11    3     1 51.98 39.02  61.15    310.00        6.90   \n",
       "7319     EWR  2013     11    3     1 50.00 39.02  65.80    290.00        5.75   \n",
       "16023    JFK  2013     11    3     1 53.96 37.94  54.51    320.00        9.21   \n",
       "16024    JFK  2013     11    3     1 51.98 37.94  58.62    310.00        6.90   \n",
       "24729    LGA  2013     11    3     1 55.04 39.02  54.67    330.00        9.21   \n",
       "24730    LGA  2013     11    3     1 53.96 39.92  58.89    310.00        8.06   \n",
       "\n",
       "       wind_gust  precip  pressure  visib            time_hour  \n",
       "7318         NaN    0.00   1009.80  10.00  2013-11-03 01:00:00  \n",
       "7319         NaN    0.00   1010.50  10.00  2013-11-03 01:00:00  \n",
       "16023        NaN    0.00   1009.80  10.00  2013-11-03 01:00:00  \n",
       "16024        NaN    0.00   1010.50  10.00  2013-11-03 01:00:00  \n",
       "24729        NaN    0.00   1009.30  10.00  2013-11-03 01:00:00  \n",
       "24730        NaN    0.00   1010.20  10.00  2013-11-03 01:00:00  "
      ]
     },
     "execution_count": 13,
     "metadata": {},
     "output_type": "execute_result"
    }
   ],
   "source": [
    "weather[weather.duplicated(subset=[\"year\", \"month\", \"day\", \"hour\", \"origin\"], keep=False)]"
   ]
  },
  {
   "attachments": {},
   "cell_type": "markdown",
   "metadata": {},
   "source": [
    "`flights`에 primary key가 있는가?"
   ]
  },
  {
   "cell_type": "code",
   "execution_count": 14,
   "metadata": {},
   "outputs": [
    {
     "data": {
      "text/plain": [
       "32610"
      ]
     },
     "execution_count": 14,
     "metadata": {},
     "output_type": "execute_result"
    }
   ],
   "source": [
    "flights.duplicated(subset=[\"year\", \"month\", \"day\", \"flight\"]).sum()"
   ]
  },
  {
   "cell_type": "code",
   "execution_count": 15,
   "metadata": {},
   "outputs": [
    {
     "data": {
      "text/plain": [
       "85049"
      ]
     },
     "execution_count": 15,
     "metadata": {},
     "output_type": "execute_result"
    }
   ],
   "source": [
    "flights.duplicated(subset=[\"year\", \"month\", \"day\", \"tailnum\"]).sum()"
   ]
  },
  {
   "attachments": {},
   "cell_type": "markdown",
   "metadata": {},
   "source": [
    "# Combine\n",
    "`merge()`: Key에 해당하는 변수들의 값이 매치되는 방식으로 두 DataFrame이 combine\n",
    "`concat()`: 공통의 행 또는 열이 align되어 join\n",
    "\n",
    "## Merge\n",
    "**Inner join**"
   ]
  },
  {
   "cell_type": "code",
   "execution_count": 16,
   "metadata": {},
   "outputs": [],
   "source": [
    "df_x = pd.DataFrame({\"key\": [1, 2, 3], \"val_x\": [\"x1\", \"x2\", \"x3\"]})\n",
    "df_y = pd.DataFrame({\"key\": [1, 2, 4], \"val_y\": [\"y1\", \"y2\", \"y3\"]})"
   ]
  },
  {
   "cell_type": "code",
   "execution_count": 17,
   "metadata": {},
   "outputs": [
    {
     "data": {
      "text/plain": [
       "   key val_x\n",
       "0    1    x1\n",
       "1    2    x2\n",
       "2    3    x3"
      ]
     },
     "metadata": {},
     "output_type": "display_data"
    },
    {
     "data": {
      "text/plain": [
       "   key val_y\n",
       "0    1    y1\n",
       "1    2    y2\n",
       "2    4    y3"
      ]
     },
     "metadata": {},
     "output_type": "display_data"
    }
   ],
   "source": [
    "#| echo: false\n",
    "#| layout-ncol: 4\n",
    "display(df_x)\n",
    "display(df_y)"
   ]
  },
  {
   "attachments": {},
   "cell_type": "markdown",
   "metadata": {},
   "source": [
    "![](images/join_inner.png){width=400}"
   ]
  },
  {
   "cell_type": "code",
   "execution_count": 18,
   "metadata": {},
   "outputs": [
    {
     "data": {
      "text/plain": [
       "   key val_x val_y\n",
       "0    1    x1    y1\n",
       "1    2    x2    y2"
      ]
     },
     "execution_count": 18,
     "metadata": {},
     "output_type": "execute_result"
    }
   ],
   "source": [
    "pd.merge(df_x, df_y, on=\"key\") # 공통의 column이 있을 시 \"on=\" 생략 가능"
   ]
  },
  {
   "cell_type": "code",
   "execution_count": 19,
   "metadata": {},
   "outputs": [
    {
     "data": {
      "text/plain": [
       "   key val_x val_y\n",
       "0    1    x1    y1\n",
       "1    2    x2    y2"
      ]
     },
     "execution_count": 19,
     "metadata": {},
     "output_type": "execute_result"
    }
   ],
   "source": [
    "df_x.merge(df_y, on=\"key\") # as a method"
   ]
  },
  {
   "attachments": {},
   "cell_type": "markdown",
   "metadata": {},
   "source": [
    "::: {.callout-note}\n",
    "`merge()`는 default로 inner 방식으로 join하고, `how=\"inner\"`가 위에서 생략되었고, 다음과 동일\n",
    "```python\n",
    "pd.merge(df_x, df_y, on=\"key\", how=\"inner\")\n",
    "```\n",
    "\n",
    "다른 방식으로는 \"left\", \"right\", \"outer\"가 있음\n",
    "\n",
    "- `left` keeps all observations in `x`. : 가장 흔하게 쓰는 join. 기준이 되는 데이터가 존재\n",
    "- `right` keeps all observations in `y`.\n",
    "- `outer` keeps all observations in `x` and `y`.\n",
    "\n",
    "![](images/join_others.png){width=400}\n",
    "\n",
    "![](images/join_diagram.png){width=500}\n",
    "\n",
    ":::"
   ]
  },
  {
   "cell_type": "code",
   "execution_count": 20,
   "metadata": {},
   "outputs": [
    {
     "data": {
      "text/plain": [
       "   key val_x val_y\n",
       "0    1    x1    y1\n",
       "1    2    x2    y2\n",
       "2    3    x3   NaN"
      ]
     },
     "execution_count": 20,
     "metadata": {},
     "output_type": "execute_result"
    }
   ],
   "source": [
    "pd.merge(df_x, df_y, how=\"left\")"
   ]
  },
  {
   "cell_type": "code",
   "execution_count": 21,
   "metadata": {},
   "outputs": [
    {
     "data": {
      "text/plain": [
       "   key val_x val_y\n",
       "0    1    x1    y1\n",
       "1    2    x2    y2\n",
       "2    4   NaN    y3"
      ]
     },
     "execution_count": 21,
     "metadata": {},
     "output_type": "execute_result"
    }
   ],
   "source": [
    "pd.merge(df_x, df_y, how=\"right\")"
   ]
  },
  {
   "cell_type": "code",
   "execution_count": 22,
   "metadata": {},
   "outputs": [
    {
     "data": {
      "text/plain": [
       "   key val_x val_y\n",
       "0    1    x1    y1\n",
       "1    2    x2    y2\n",
       "2    3    x3   NaN\n",
       "3    4   NaN    y3"
      ]
     },
     "execution_count": 22,
     "metadata": {},
     "output_type": "execute_result"
    }
   ],
   "source": [
    "pd.merge(df_x, df_y, how=\"outer\")"
   ]
  },
  {
   "attachments": {},
   "cell_type": "markdown",
   "metadata": {},
   "source": [
    "### Duplicate keys\n",
    "한쪽만 중복이 있는 경우  \n",
    "![](images/join_dup1.png){width=400}"
   ]
  },
  {
   "cell_type": "code",
   "execution_count": 23,
   "metadata": {},
   "outputs": [
    {
     "data": {
      "text/plain": [
       "        year  month  day  hour origin dest tailnum carrier\n",
       "0       2013      1    1     5    EWR  IAH  N14228      UA\n",
       "1       2013      1    1     5    LGA  IAH  N24211      UA\n",
       "2       2013      1    1     5    JFK  MIA  N619AA      AA\n",
       "...      ...    ...  ...   ...    ...  ...     ...     ...\n",
       "336773  2013      9   30    12    LGA  BNA  N535MQ      MQ\n",
       "336774  2013      9   30    11    LGA  CLE  N511MQ      MQ\n",
       "336775  2013      9   30     8    LGA  RDU  N839MQ      MQ\n",
       "\n",
       "[336776 rows x 8 columns]"
      ]
     },
     "execution_count": 23,
     "metadata": {},
     "output_type": "execute_result"
    }
   ],
   "source": [
    "flights2 = flights[[\"year\", \"month\", \"day\", \"hour\", \"origin\", \"dest\", \"tailnum\", \"carrier\"]]\n",
    "flights2"
   ]
  },
  {
   "cell_type": "code",
   "execution_count": 24,
   "metadata": {},
   "outputs": [
    {
     "data": {
      "text/plain": [
       "        year  month  day  hour tailnum carrier                    name\n",
       "0       2013      1    1     5  N14228      UA   United Air Lines Inc.\n",
       "1       2013      1    1     5  N24211      UA   United Air Lines Inc.\n",
       "2       2013      1    1     5  N619AA      AA  American Airlines Inc.\n",
       "...      ...    ...  ...   ...     ...     ...                     ...\n",
       "336773  2013      9   30    12  N535MQ      MQ               Envoy Air\n",
       "336774  2013      9   30    11  N511MQ      MQ               Envoy Air\n",
       "336775  2013      9   30     8  N839MQ      MQ               Envoy Air\n",
       "\n",
       "[336776 rows x 7 columns]"
      ]
     },
     "execution_count": 24,
     "metadata": {},
     "output_type": "execute_result"
    }
   ],
   "source": [
    "# flights에 항공사의 full name을 추가하고자 할때,\n",
    "flights2.drop([\"origin\", \"dest\"], axis=1).merge(airlines, on=\"carrier\", how=\"left\")"
   ]
  },
  {
   "attachments": {},
   "cell_type": "markdown",
   "metadata": {},
   "source": [
    "두 쪽 모두 중복이 있는 경우: 조심!  \n",
    "can’t uniquely identify an observation; 가능한 모든 조합이 나타남   \n",
    "![](images/join_dup2.png){width=400}"
   ]
  },
  {
   "attachments": {},
   "cell_type": "markdown",
   "metadata": {},
   "source": [
    "### Defining the key columns\n",
    "The default, uses all variables that appear in both tables, the so called \n",
    "natural join."
   ]
  },
  {
   "cell_type": "code",
   "execution_count": 25,
   "metadata": {},
   "outputs": [
    {
     "data": {
      "text/plain": [
       "        year  month  day  hour origin dest tailnum carrier  temp  dewp  humid  \\\n",
       "0       2013      1    1     5    EWR  IAH  N14228      UA 39.02 28.04  64.43   \n",
       "1       2013      1    1     5    LGA  IAH  N24211      UA 39.92 24.98  54.81   \n",
       "2       2013      1    1     5    JFK  MIA  N619AA      AA 39.02 26.96  61.63   \n",
       "...      ...    ...  ...   ...    ...  ...     ...     ...   ...   ...    ...   \n",
       "336773  2013      9   30    12    LGA  BNA  N535MQ      MQ 69.08 48.02  46.99   \n",
       "336774  2013      9   30    11    LGA  CLE  N511MQ      MQ 66.92 48.92  52.35   \n",
       "336775  2013      9   30     8    LGA  RDU  N839MQ      MQ 60.98 51.08  69.86   \n",
       "\n",
       "        wind_dir  wind_speed  wind_gust  precip  pressure  visib  \\\n",
       "0         260.00       12.66        NaN    0.00   1011.90  10.00   \n",
       "1         250.00       14.96      21.86    0.00   1011.40  10.00   \n",
       "2         260.00       14.96        NaN    0.00   1012.10  10.00   \n",
       "...          ...         ...        ...     ...       ...    ...   \n",
       "336773     70.00        5.75        NaN    0.00   1016.70  10.00   \n",
       "336774     70.00        8.06        NaN    0.00   1017.50  10.00   \n",
       "336775       NaN        5.75        NaN    0.00   1018.60  10.00   \n",
       "\n",
       "                  time_hour  \n",
       "0       2013-01-01 05:00:00  \n",
       "1       2013-01-01 05:00:00  \n",
       "2       2013-01-01 05:00:00  \n",
       "...                     ...  \n",
       "336773  2013-09-30 12:00:00  \n",
       "336774  2013-09-30 11:00:00  \n",
       "336775  2013-09-30 08:00:00  \n",
       "\n",
       "[336776 rows x 18 columns]"
      ]
     },
     "execution_count": 25,
     "metadata": {},
     "output_type": "execute_result"
    }
   ],
   "source": [
    "flights2.merge(weather, how=\"left\")  # on=[\"year\", \"month\", \"day\", \"hour\", \"origin\"]"
   ]
  },
  {
   "attachments": {},
   "cell_type": "markdown",
   "metadata": {},
   "source": [
    "`flights`의 `year`와 `planes`의 `year`는 다른 의미의 year임  \n",
    "중복된 이름은 따로 표기"
   ]
  },
  {
   "cell_type": "code",
   "execution_count": 26,
   "metadata": {},
   "outputs": [
    {
     "data": {
      "text/plain": [
       "        year_x  month  day  hour origin dest tailnum carrier  year_y  \\\n",
       "0         2013      1    1     5    EWR  IAH  N14228      UA 1999.00   \n",
       "1         2013      1    1     5    LGA  IAH  N24211      UA 1998.00   \n",
       "2         2013      1    1     5    JFK  MIA  N619AA      AA 1990.00   \n",
       "...        ...    ...  ...   ...    ...  ...     ...     ...     ...   \n",
       "336773    2013      9   30    12    LGA  BNA  N535MQ      MQ     NaN   \n",
       "336774    2013      9   30    11    LGA  CLE  N511MQ      MQ     NaN   \n",
       "336775    2013      9   30     8    LGA  RDU  N839MQ      MQ     NaN   \n",
       "\n",
       "                           type manufacturer    model  engines  seats  speed  \\\n",
       "0       Fixed wing multi engine       BOEING  737-824     2.00 149.00    NaN   \n",
       "1       Fixed wing multi engine       BOEING  737-824     2.00 149.00    NaN   \n",
       "2       Fixed wing multi engine       BOEING  757-223     2.00 178.00    NaN   \n",
       "...                         ...          ...      ...      ...    ...    ...   \n",
       "336773                      NaN          NaN      NaN      NaN    NaN    NaN   \n",
       "336774                      NaN          NaN      NaN      NaN    NaN    NaN   \n",
       "336775                      NaN          NaN      NaN      NaN    NaN    NaN   \n",
       "\n",
       "           engine  \n",
       "0       Turbo-fan  \n",
       "1       Turbo-fan  \n",
       "2       Turbo-fan  \n",
       "...           ...  \n",
       "336773        NaN  \n",
       "336774        NaN  \n",
       "336775        NaN  \n",
       "\n",
       "[336776 rows x 16 columns]"
      ]
     },
     "execution_count": 26,
     "metadata": {},
     "output_type": "execute_result"
    }
   ],
   "source": [
    "flights2.merge(planes, on=\"tailnum\", how=\"left\") # year.x, year.y로 구분되어 표시"
   ]
  },
  {
   "attachments": {},
   "cell_type": "markdown",
   "metadata": {},
   "source": [
    "`airports` 데이터프레임에서 공항이름이 `faa`라는 이름의 column으로 존재.  \n",
    "도착지(`dest`)의 공항정보를 얻으려면, `faa`와 `dest`를 매치시키고,  \n",
    "출발지(`origin`)의 공항정보를 얻으려면, `faa`와 `origin`를 매치시켜야 함."
   ]
  },
  {
   "cell_type": "code",
   "execution_count": 27,
   "metadata": {},
   "outputs": [
    {
     "data": {
      "text/plain": [
       "      faa                           name   lat    lon   alt  tz dst  \\\n",
       "0     04G              Lansdowne Airport 41.13 -80.62  1044  -5   A   \n",
       "1     06A  Moton Field Municipal Airport 32.46 -85.68   264  -6   A   \n",
       "2     06C            Schaumburg Regional 41.99 -88.10   801  -6   A   \n",
       "...   ...                            ...   ...    ...   ...  ..  ..   \n",
       "1455  ZWI      Wilmington Amtrak Station 39.74 -75.55     0  -5   A   \n",
       "1456  ZWU       Washington Union Station 38.90 -77.01    76  -5   A   \n",
       "1457  ZYP                   Penn Station 40.75 -73.99    35  -5   A   \n",
       "\n",
       "                 tzone  \n",
       "0     America/New_York  \n",
       "1      America/Chicago  \n",
       "2      America/Chicago  \n",
       "...                ...  \n",
       "1455  America/New_York  \n",
       "1456  America/New_York  \n",
       "1457  America/New_York  \n",
       "\n",
       "[1458 rows x 8 columns]"
      ]
     },
     "execution_count": 27,
     "metadata": {},
     "output_type": "execute_result"
    }
   ],
   "source": [
    "airports"
   ]
  },
  {
   "cell_type": "code",
   "execution_count": 28,
   "metadata": {},
   "outputs": [
    {
     "data": {
      "text/plain": [
       "        year  month  day  hour origin dest tailnum carrier  faa  \\\n",
       "0       2013      1    1     5    EWR  IAH  N14228      UA  IAH   \n",
       "1       2013      1    1     5    LGA  IAH  N24211      UA  IAH   \n",
       "2       2013      1    1     5    JFK  MIA  N619AA      AA  MIA   \n",
       "...      ...    ...  ...   ...    ...  ...     ...     ...  ...   \n",
       "336773  2013      9   30    12    LGA  BNA  N535MQ      MQ  BNA   \n",
       "336774  2013      9   30    11    LGA  CLE  N511MQ      MQ  CLE   \n",
       "336775  2013      9   30     8    LGA  RDU  N839MQ      MQ  RDU   \n",
       "\n",
       "                                name   lat    lon    alt    tz dst  \\\n",
       "0       George Bush Intercontinental 29.98 -95.34  97.00 -6.00   A   \n",
       "1       George Bush Intercontinental 29.98 -95.34  97.00 -6.00   A   \n",
       "2                         Miami Intl 25.79 -80.29   8.00 -5.00   A   \n",
       "...                              ...   ...    ...    ...   ...  ..   \n",
       "336773                Nashville Intl 36.12 -86.68 599.00 -6.00   A   \n",
       "336774        Cleveland Hopkins Intl 41.41 -81.85 791.00 -5.00   A   \n",
       "336775           Raleigh Durham Intl 35.88 -78.79 435.00 -5.00   A   \n",
       "\n",
       "                   tzone  \n",
       "0        America/Chicago  \n",
       "1        America/Chicago  \n",
       "2       America/New_York  \n",
       "...                  ...  \n",
       "336773   America/Chicago  \n",
       "336774  America/New_York  \n",
       "336775  America/New_York  \n",
       "\n",
       "[336776 rows x 16 columns]"
      ]
     },
     "execution_count": 28,
     "metadata": {},
     "output_type": "execute_result"
    }
   ],
   "source": [
    "flights2.merge(airports, left_on=\"dest\", right_on=\"faa\", how=\"left\")"
   ]
  },
  {
   "cell_type": "code",
   "execution_count": 29,
   "metadata": {},
   "outputs": [
    {
     "data": {
      "text/plain": [
       "        year  month  day  hour origin dest tailnum carrier  faa  \\\n",
       "0       2013      1    1     5    EWR  IAH  N14228      UA  EWR   \n",
       "1       2013      1    1     5    LGA  IAH  N24211      UA  LGA   \n",
       "2       2013      1    1     5    JFK  MIA  N619AA      AA  JFK   \n",
       "...      ...    ...  ...   ...    ...  ...     ...     ...  ...   \n",
       "336773  2013      9   30    12    LGA  BNA  N535MQ      MQ  LGA   \n",
       "336774  2013      9   30    11    LGA  CLE  N511MQ      MQ  LGA   \n",
       "336775  2013      9   30     8    LGA  RDU  N839MQ      MQ  LGA   \n",
       "\n",
       "                       name   lat    lon  alt  tz dst             tzone  \n",
       "0       Newark Liberty Intl 40.69 -74.17   18  -5   A  America/New_York  \n",
       "1                La Guardia 40.78 -73.87   22  -5   A  America/New_York  \n",
       "2       John F Kennedy Intl 40.64 -73.78   13  -5   A  America/New_York  \n",
       "...                     ...   ...    ...  ...  ..  ..               ...  \n",
       "336773           La Guardia 40.78 -73.87   22  -5   A  America/New_York  \n",
       "336774           La Guardia 40.78 -73.87   22  -5   A  America/New_York  \n",
       "336775           La Guardia 40.78 -73.87   22  -5   A  America/New_York  \n",
       "\n",
       "[336776 rows x 16 columns]"
      ]
     },
     "execution_count": 29,
     "metadata": {},
     "output_type": "execute_result"
    }
   ],
   "source": [
    "flights2.merge(airports, left_on=\"origin\", right_on=\"faa\", how=\"left\")"
   ]
  },
  {
   "attachments": {},
   "cell_type": "markdown",
   "metadata": {},
   "source": [
    "### Join problems: join은 매우 조심스러운 작업!\n",
    "\n",
    "1. Start by identifying the variables that form the primary key in each table. \n",
    "    - You should usually do this based on your understanding of the data, not empirically by looking for a combination of variables that give a unique identifier.\n",
    "    \n",
    "    ```r\n",
    "    # 확인작업은 기본\n",
    "    weather %>% \n",
    "      count(year, month, day, hour, origin) %>% \n",
    "      filter(n > 1)\n",
    "    #> # A tibble: 3 x 6\n",
    "    #>    year month   day  hour origin     n\n",
    "    #>   <int> <int> <int> <int> <chr>  <int>\n",
    "    #> 1  2013    11     3     1 EWR        2\n",
    "    #> 2  2013    11     3     1 JFK        2\n",
    "    #> 3  2013    11     3     1 LGA        2\n",
    "    ```\n",
    "\n",
    "2. Check that none of the variables in the primary key are missing. If a value is missing then it can’t identify an observation!\n",
    "3. Check that your foreign keys match primary keys in another table. \n",
    "    - The best way to do this is with an `anti_join()`. It’s common for keys not to match because of data entry errors. Fixing these is often a lot of work.\n",
    "    - If you do have missing keys, you’ll need to be thoughtful about your use of inner vs. outer joins, carefully considering whether or not you want to drop rows that don’t have a match."
   ]
  },
  {
   "cell_type": "code",
   "execution_count": null,
   "metadata": {},
   "outputs": [],
   "source": []
  },
  {
   "cell_type": "markdown",
   "metadata": {},
   "source": []
  },
  {
   "cell_type": "markdown",
   "metadata": {},
   "source": []
  },
  {
   "attachments": {},
   "cell_type": "markdown",
   "metadata": {},
   "source": [
    "index 값을 key로 하는 merge나 간결한 `.join()` method를 포함해 다양한 combine 방식은 교재를 참고.  \n",
    "[8.2 Combining and Merging Datasets](https://wesmckinney.com/book/data-wrangling.html#prep_merge_join) in McKinney's"
   ]
  },
  {
   "attachments": {},
   "cell_type": "markdown",
   "metadata": {},
   "source": [
    "## Concatenate\n",
    "`pd.concat([df1, df2, ...], axis=)`\n",
    "\n",
    "행과 열의 index를 매치시켜 두 DataFrame/Series를 합침"
   ]
  },
  {
   "cell_type": "code",
   "execution_count": 30,
   "metadata": {},
   "outputs": [],
   "source": [
    "df1 = pd.DataFrame(np.arange(6).reshape(3, 2), index=[\"a\", \"b\", \"c\"],\n",
    "                   columns=[\"one\", \"two\"])\n",
    "\n",
    "df2 = pd.DataFrame(5 + np.arange(4).reshape(2, 2), index=[\"a\", \"c\"],\n",
    "                   columns=[\"three\", \"four\"])"
   ]
  },
  {
   "cell_type": "code",
   "execution_count": 31,
   "metadata": {},
   "outputs": [
    {
     "data": {
      "text/plain": [
       "   one  two\n",
       "a    0    1\n",
       "b    2    3\n",
       "c    4    5"
      ]
     },
     "metadata": {},
     "output_type": "display_data"
    },
    {
     "data": {
      "text/plain": [
       "   three  four\n",
       "a      5     6\n",
       "c      7     8"
      ]
     },
     "metadata": {},
     "output_type": "display_data"
    }
   ],
   "source": [
    "#| echo: false\n",
    "#| layout-ncol: 4\n",
    "display(df1)\n",
    "display(df2)"
   ]
  },
  {
   "cell_type": "code",
   "execution_count": 32,
   "metadata": {},
   "outputs": [
    {
     "data": {
      "text/plain": [
       "   one  two  three  four\n",
       "a    0    1   5.00  6.00\n",
       "b    2    3    NaN   NaN\n",
       "c    4    5   7.00  8.00"
      ]
     },
     "execution_count": 32,
     "metadata": {},
     "output_type": "execute_result"
    }
   ],
   "source": [
    "pd.concat([df1, df2], axis=1)"
   ]
  },
  {
   "cell_type": "code",
   "execution_count": 33,
   "metadata": {},
   "outputs": [
    {
     "data": {
      "text/plain": [
       "   one  two  three  four\n",
       "a 0.00 1.00    NaN   NaN\n",
       "b 2.00 3.00    NaN   NaN\n",
       "c 4.00 5.00    NaN   NaN\n",
       "a  NaN  NaN   5.00  6.00\n",
       "c  NaN  NaN   7.00  8.00"
      ]
     },
     "execution_count": 33,
     "metadata": {},
     "output_type": "execute_result"
    }
   ],
   "source": [
    "pd.concat([df1, df2]) # default: axis=0"
   ]
  },
  {
   "attachments": {},
   "cell_type": "markdown",
   "metadata": {},
   "source": [
    "1. Identify the keys in the following datasets\n",
    "    1. `Lahman::Batting` - stint: 팀 소속/기간\n",
    "    2. `babynames::babynames`\n",
    "    3. `fueleconomy::vehicles`\n",
    "    4. `ggplot2::diamonds`\n",
    "    \n",
    "    (You might need to install some packages and read some documentation.)\n",
    "    \n",
    "2. Draw a diagram illustrating the connections between the `Batting`, `People`, and `Salaries`\n",
    " tables in the Lahman package. Identify the primary, foreign keys."
   ]
  },
  {
   "cell_type": "markdown",
   "metadata": {},
   "source": []
  },
  {
   "cell_type": "markdown",
   "metadata": {},
   "source": []
  },
  {
   "cell_type": "markdown",
   "metadata": {},
   "source": []
  },
  {
   "attachments": {},
   "cell_type": "markdown",
   "metadata": {},
   "source": [
    "1. Add the location of the origin *and* destination (i.e. the `lat` and `lon`) to `flights`.\n",
    "2. Is there a relationship between the age of a plane and its delays?\n",
    "3. What weather conditions make it more likely to see a delay?"
   ]
  },
  {
   "attachments": {},
   "cell_type": "markdown",
   "metadata": {},
   "source": [
    "1. flights 테이블에서 하루 평균 도착지연(arr_delay)가 가장 큰 10일에 해당하는 항공편을 선택\n",
    "2. flights와 planes을 매치하는데, 실제로 planes 테이블에 매치가 없는 flights들이 구하면."
   ]
  },
  {
   "attachments": {},
   "cell_type": "markdown",
   "metadata": {},
   "source": [
    "1. Filter flights to only show flights with planes that have flown at least 100 flights.\n",
    "2. Combine `fueleconomy::vehicles` and `fueleconomy::common` to find only the records for the most common models.\n",
    "    - 즉, common 테이블에 있는 차량만을 vehicles에서 선택함\n",
    "        - 그 전에 vehicles과 common 테이블을 살펴보고, 차량 제조사(make)와 차량의 모델(model)이 key가 될 수 있는지 확인할 것. 즉, 다른 제조사에서 같은 모델의 이름으로 차량을 제조했는지를 살펴볼 것\n",
    "3. Find the 48 hours (over the course of the whole year) that have the worst (departure) delays. \n",
    "    - flights의 hour 열을 이용할 것\n",
    "4. What does `anti_join(flights, airports, by = c(\"dest\" = \"faa\"))` tell you? \n",
    "What does `anti_join(airports, flights, by = c(\"faa\" = \"dest\"))` tell you?\n",
    "5. You might expect that there’s an implicit relationship between plane and airline, because each plane is flown by a single airline. Confirm or reject this hypothesis using the tools you’ve learned above.\n",
    "    - 즉, 각 비행기는 특정 항공사에서만 운행되는가의 질문임.  2개 이상의 항공사에서 운항되는 비행기가 있는지 확인해 볼 것\n",
    "    - 다음 코드를 활용하고, 2개 이상의 항공사에서 운항되는 비행기와 항공사의 full name을 포함하는 테이블을 만들어 볼 것\n",
    "    \n",
    "    ```r\n",
    "    planes_carriers <-\n",
    "      flights %>%\n",
    "      filter(!is.na(tailnum)) %>%\n",
    "      distinct(tailnum, carrier)\n",
    "    ```"
   ]
  }
 ],
 "metadata": {
  "kernelspec": {
   "display_name": "envconda",
   "language": "python",
   "name": "python3"
  },
  "language_info": {
   "codemirror_mode": {
    "name": "ipython",
    "version": 3
   },
   "file_extension": ".py",
   "mimetype": "text/x-python",
   "name": "python",
   "nbconvert_exporter": "python",
   "pygments_lexer": "ipython3",
   "version": "3.11.0"
  },
  "orig_nbformat": 4
 },
 "nbformat": 4,
 "nbformat_minor": 2
}
